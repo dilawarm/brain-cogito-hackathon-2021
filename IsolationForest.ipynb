{
  "nbformat": 4,
  "nbformat_minor": 0,
  "metadata": {
    "colab": {
      "name": "IsolationForest.ipynb",
      "provenance": [],
      "collapsed_sections": [],
      "toc_visible": true
    },
    "kernelspec": {
      "name": "python3",
      "display_name": "Python 3"
    },
    "accelerator": "GPU"
  },
  "cells": [
    {
      "cell_type": "markdown",
      "metadata": {
        "id": "i5ePiMSvtSw1"
      },
      "source": [
        "# Isolation Forest"
      ]
    },
    {
      "cell_type": "markdown",
      "metadata": {
        "id": "cklGh3ISy81-"
      },
      "source": [
        "## Data preprocessing"
      ]
    },
    {
      "cell_type": "code",
      "metadata": {
        "id": "_f3_rxWJtR8n"
      },
      "source": [
        "import pandas as pd\n",
        "import numpy as np\n",
        "import matplotlib.pyplot as plt\n",
        "\n",
        "\n",
        "from sklearn.decomposition import PCA\n",
        "from sklearn.ensemble import IsolationForest"
      ],
      "execution_count": 18,
      "outputs": []
    },
    {
      "cell_type": "code",
      "metadata": {
        "id": "l5snWN0RxYCL",
        "colab": {
          "base_uri": "https://localhost:8080/",
          "height": 299
        },
        "outputId": "e3cd4fa1-2768-49b0-faff-732042859ede"
      },
      "source": [
        "df = pd.read_csv(\"hackathon_kpis_anonymised.csv\")\n",
        "df.head()"
      ],
      "execution_count": 19,
      "outputs": [
        {
          "output_type": "execute_result",
          "data": {
            "text/html": [
              "<div>\n",
              "<style scoped>\n",
              "    .dataframe tbody tr th:only-of-type {\n",
              "        vertical-align: middle;\n",
              "    }\n",
              "\n",
              "    .dataframe tbody tr th {\n",
              "        vertical-align: top;\n",
              "    }\n",
              "\n",
              "    .dataframe thead th {\n",
              "        text-align: right;\n",
              "    }\n",
              "</style>\n",
              "<table border=\"1\" class=\"dataframe\">\n",
              "  <thead>\n",
              "    <tr style=\"text-align: right;\">\n",
              "      <th></th>\n",
              "      <th>cell_name</th>\n",
              "      <th>timestamp</th>\n",
              "      <th>ho_failure_rate</th>\n",
              "      <th>num_voice_attempts</th>\n",
              "      <th>voice_drop_rate</th>\n",
              "      <th>num_data_attempts</th>\n",
              "      <th>voice_setup_failure_rate</th>\n",
              "      <th>voice_tot_failure_rate</th>\n",
              "      <th>avail_period_duration</th>\n",
              "      <th>bandwidth</th>\n",
              "      <th>throughput_rate</th>\n",
              "      <th>data_setup_failure_rate</th>\n",
              "      <th>data_drop_rate</th>\n",
              "      <th>data_tot_failure_rate</th>\n",
              "      <th>unavail_total_rate</th>\n",
              "      <th>unavail_unplan_rate</th>\n",
              "    </tr>\n",
              "  </thead>\n",
              "  <tbody>\n",
              "    <tr>\n",
              "      <th>0</th>\n",
              "      <td>00_11Z</td>\n",
              "      <td>2020-04-09 15:00:00+00:00</td>\n",
              "      <td>0.333333</td>\n",
              "      <td>0.000927</td>\n",
              "      <td>0.0</td>\n",
              "      <td>0.004527</td>\n",
              "      <td>0.0</td>\n",
              "      <td>0.0</td>\n",
              "      <td>1.0</td>\n",
              "      <td>0.49975</td>\n",
              "      <td>0.000195</td>\n",
              "      <td>0.000000</td>\n",
              "      <td>0.000731</td>\n",
              "      <td>0.000731</td>\n",
              "      <td>0.333364</td>\n",
              "      <td>0.0</td>\n",
              "    </tr>\n",
              "    <tr>\n",
              "      <th>1</th>\n",
              "      <td>00_11Z</td>\n",
              "      <td>2020-04-22 14:00:00+00:00</td>\n",
              "      <td>0.360000</td>\n",
              "      <td>0.017609</td>\n",
              "      <td>0.0</td>\n",
              "      <td>0.012312</td>\n",
              "      <td>0.0</td>\n",
              "      <td>0.0</td>\n",
              "      <td>1.0</td>\n",
              "      <td>0.49975</td>\n",
              "      <td>0.000197</td>\n",
              "      <td>0.001075</td>\n",
              "      <td>0.000269</td>\n",
              "      <td>0.000403</td>\n",
              "      <td>0.333364</td>\n",
              "      <td>0.0</td>\n",
              "    </tr>\n",
              "    <tr>\n",
              "      <th>2</th>\n",
              "      <td>00_11Z</td>\n",
              "      <td>2020-05-08 21:00:00+00:00</td>\n",
              "      <td>0.333333</td>\n",
              "      <td>0.002780</td>\n",
              "      <td>0.0</td>\n",
              "      <td>0.008115</td>\n",
              "      <td>0.0</td>\n",
              "      <td>0.0</td>\n",
              "      <td>1.0</td>\n",
              "      <td>0.49975</td>\n",
              "      <td>0.000196</td>\n",
              "      <td>0.000000</td>\n",
              "      <td>0.000000</td>\n",
              "      <td>0.000000</td>\n",
              "      <td>0.333364</td>\n",
              "      <td>0.0</td>\n",
              "    </tr>\n",
              "    <tr>\n",
              "      <th>3</th>\n",
              "      <td>00_11Z</td>\n",
              "      <td>2020-05-10 13:00:00+00:00</td>\n",
              "      <td>0.380952</td>\n",
              "      <td>0.012048</td>\n",
              "      <td>0.0</td>\n",
              "      <td>0.004898</td>\n",
              "      <td>0.0</td>\n",
              "      <td>0.0</td>\n",
              "      <td>1.0</td>\n",
              "      <td>0.49975</td>\n",
              "      <td>0.000116</td>\n",
              "      <td>0.000000</td>\n",
              "      <td>0.002027</td>\n",
              "      <td>0.002027</td>\n",
              "      <td>0.333364</td>\n",
              "      <td>0.0</td>\n",
              "    </tr>\n",
              "    <tr>\n",
              "      <th>4</th>\n",
              "      <td>00_11Z</td>\n",
              "      <td>2020-05-12 03:00:00+00:00</td>\n",
              "      <td>NaN</td>\n",
              "      <td>NaN</td>\n",
              "      <td>NaN</td>\n",
              "      <td>NaN</td>\n",
              "      <td>NaN</td>\n",
              "      <td>NaN</td>\n",
              "      <td>1.0</td>\n",
              "      <td>0.49975</td>\n",
              "      <td>NaN</td>\n",
              "      <td>NaN</td>\n",
              "      <td>NaN</td>\n",
              "      <td>NaN</td>\n",
              "      <td>0.666728</td>\n",
              "      <td>0.0</td>\n",
              "    </tr>\n",
              "  </tbody>\n",
              "</table>\n",
              "</div>"
            ],
            "text/plain": [
              "  cell_name                  timestamp  ...  unavail_total_rate  unavail_unplan_rate\n",
              "0    00_11Z  2020-04-09 15:00:00+00:00  ...            0.333364                  0.0\n",
              "1    00_11Z  2020-04-22 14:00:00+00:00  ...            0.333364                  0.0\n",
              "2    00_11Z  2020-05-08 21:00:00+00:00  ...            0.333364                  0.0\n",
              "3    00_11Z  2020-05-10 13:00:00+00:00  ...            0.333364                  0.0\n",
              "4    00_11Z  2020-05-12 03:00:00+00:00  ...            0.666728                  0.0\n",
              "\n",
              "[5 rows x 16 columns]"
            ]
          },
          "metadata": {
            "tags": []
          },
          "execution_count": 19
        }
      ]
    },
    {
      "cell_type": "code",
      "metadata": {
        "colab": {
          "base_uri": "https://localhost:8080/"
        },
        "id": "fkkvi5xyx-ev",
        "outputId": "f7a581be-3a4f-4f40-9846-d31b99210703"
      },
      "source": [
        "df.info()\r\n",
        "df.groupby('cell_name')\r\n"
      ],
      "execution_count": 20,
      "outputs": [
        {
          "output_type": "stream",
          "text": [
            "<class 'pandas.core.frame.DataFrame'>\n",
            "RangeIndex: 1042688 entries, 0 to 1042687\n",
            "Data columns (total 16 columns):\n",
            " #   Column                    Non-Null Count    Dtype  \n",
            "---  ------                    --------------    -----  \n",
            " 0   cell_name                 1042688 non-null  object \n",
            " 1   timestamp                 1042688 non-null  object \n",
            " 2   ho_failure_rate           469309 non-null   float64\n",
            " 3   num_voice_attempts        912315 non-null   float64\n",
            " 4   voice_drop_rate           630066 non-null   float64\n",
            " 5   num_data_attempts         912210 non-null   float64\n",
            " 6   voice_setup_failure_rate  630066 non-null   float64\n",
            " 7   voice_tot_failure_rate    630066 non-null   float64\n",
            " 8   avail_period_duration     1042688 non-null  float64\n",
            " 9   bandwidth                 1042688 non-null  float64\n",
            " 10  throughput_rate           811369 non-null   float64\n",
            " 11  data_setup_failure_rate   895247 non-null   float64\n",
            " 12  data_drop_rate            895247 non-null   float64\n",
            " 13  data_tot_failure_rate     895247 non-null   float64\n",
            " 14  unavail_total_rate        1042688 non-null  float64\n",
            " 15  unavail_unplan_rate       1031935 non-null  float64\n",
            "dtypes: float64(14), object(2)\n",
            "memory usage: 127.3+ MB\n"
          ],
          "name": "stdout"
        },
        {
          "output_type": "execute_result",
          "data": {
            "text/plain": [
              "<pandas.core.groupby.generic.DataFrameGroupBy object at 0x7f3818115910>"
            ]
          },
          "metadata": {
            "tags": []
          },
          "execution_count": 20
        }
      ]
    },
    {
      "cell_type": "code",
      "metadata": {
        "colab": {
          "base_uri": "https://localhost:8080/"
        },
        "id": "blyLaJYECKH9",
        "outputId": "ade102b7-60d4-47ea-ddd0-c9ce8a8e0888"
      },
      "source": [
        "nans_2 = {}\r\n",
        "for key, val in nans.items():\r\n",
        "  perc = val['total_nans']/val['num_timesteps']\r\n",
        "  if perc < 0.15:\r\n",
        "    nans_2[key] = perc\r\n",
        "\r\n",
        "nans_2"
      ],
      "execution_count": 22,
      "outputs": [
        {
          "output_type": "execute_result",
          "data": {
            "text/plain": [
              "{'07_31R': 0.13588588588588588}"
            ]
          },
          "metadata": {
            "tags": []
          },
          "execution_count": 22
        }
      ]
    },
    {
      "cell_type": "code",
      "metadata": {
        "id": "KHsiT3u9C1VF"
      },
      "source": [
        "def get_cell_df(cell_name):\r\n",
        "  return df[df['cell_name'] == cell_name]"
      ],
      "execution_count": 23,
      "outputs": []
    },
    {
      "cell_type": "code",
      "metadata": {
        "id": "jMybl3SJ93C3"
      },
      "source": [
        "def preprocess(df):\r\n",
        "  df_temp = df.fillna(df.median(), axis='index')\r\n",
        "  df_temp = df_temp.drop(columns='cell_name')\r\n",
        "  df_temp = df_temp.sort_values('timestamp')\r\n",
        "  return df_temp.set_index('timestamp')"
      ],
      "execution_count": 24,
      "outputs": []
    },
    {
      "cell_type": "code",
      "metadata": {
        "id": "3FcAi1r_KU0z"
      },
      "source": [
        "def dont_use_df(df):\r\n",
        "  # skip this df if a whole column is nan\r\n",
        "  return df.isna().sum().sum() > 0"
      ],
      "execution_count": 25,
      "outputs": []
    },
    {
      "cell_type": "code",
      "metadata": {
        "id": "PYbjwiZFPTFo"
      },
      "source": [
        "def add_aggregated_time_information(data, window_size=5):\r\n",
        "  time = np.zeros(shape=data.shape)\r\n",
        "  for i in range(window_size, time.shape[0]):\r\n",
        "    time[i] = np.mean(data[i-window_size:i], axis=0)\r\n",
        "\r\n",
        "  return np.concatenate((data, time), axis=1)"
      ],
      "execution_count": 26,
      "outputs": []
    },
    {
      "cell_type": "markdown",
      "metadata": {
        "id": "zyDE-oYgy4Mf"
      },
      "source": [
        "## Isolation forest"
      ]
    },
    {
      "cell_type": "code",
      "metadata": {
        "id": "59m-mQBcJxeY"
      },
      "source": [
        "skipped = []\r\n",
        "scores_per_cell = {}\r\n",
        "for cell in df['cell_name'].unique():\r\n",
        "  df_temp = get_cell_df(cell)\r\n",
        "  df_temp = preprocess(df_temp)\r\n",
        "  if dont_use_df(df_temp):\r\n",
        "    skipped.append(cell)\r\n",
        "    continue\r\n",
        "  pca = PCA(n_components=8)\r\n",
        "  data = pca.fit_transform(df_temp)\r\n",
        "  data = add_aggregated_time_information(data)\r\n",
        "  model =  IsolationForest(contamination = 0.1, random_state=42)\r\n",
        "  model.fit(data)\r\n",
        "  scores_per_cell[cell] = {'score':model.score_samples(data), 'timestep':df_temp.index} # Low = abnormal"
      ],
      "execution_count": 34,
      "outputs": []
    },
    {
      "cell_type": "code",
      "metadata": {
        "colab": {
          "base_uri": "https://localhost:8080/",
          "height": 265
        },
        "id": "jPRSa7m4SzG7",
        "outputId": "230c767d-7284-4345-d5dd-96ca621b9ab8"
      },
      "source": [
        "cell_name_to_plot = df['cell_name'].unique()[5]\r\n",
        "plt.scatter(scores_per_cell[cell_name_to_plot]['timestep'], scores_per_cell[cell_name_to_plot]['score'])\r\n",
        "plt.show()"
      ],
      "execution_count": 39,
      "outputs": [
        {
          "output_type": "display_data",
          "data": {
            "image/png": "[encoded data removed]",
            "text/plain": [
              "<Figure size 432x288 with 1 Axes>"
            ]
          },
          "metadata": {
            "tags": [],
            "needs_background": "light"
          }
        }
      ]
    },
    {
      "cell_type": "code",
      "metadata": {
        "id": "nw2TKEGJTKLB"
      },
      "source": [
        ""
      ],
      "execution_count": null,
      "outputs": []
    }
  ]
}