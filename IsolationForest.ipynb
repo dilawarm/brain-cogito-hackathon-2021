{
 "cells": [
  {
   "cell_type": "markdown",
   "metadata": {
    "id": "i5ePiMSvtSw1"
   },
   "source": [
    "# Isolation Forest"
   ]
  },
  {
   "cell_type": "markdown",
   "metadata": {
    "id": "cklGh3ISy81-"
   },
   "source": [
    "## Data preprocessing"
   ]
  },
  {
   "cell_type": "code",
   "execution_count": 1,
   "metadata": {
    "id": "_f3_rxWJtR8n"
   },
   "outputs": [
    {
     "ename": "ModuleNotFoundError",
     "evalue": "No module named 'pandas'",
     "output_type": "error",
     "traceback": [
      "\u001b[1;31m---------------------------------------------------------------------------\u001b[0m",
      "\u001b[1;31mModuleNotFoundError\u001b[0m                       Traceback (most recent call last)",
      "\u001b[1;32m<ipython-input-1-cb3830584210>\u001b[0m in \u001b[0;36m<module>\u001b[1;34m\u001b[0m\n\u001b[1;32m----> 1\u001b[1;33m \u001b[1;32mimport\u001b[0m \u001b[0mpandas\u001b[0m \u001b[1;32mas\u001b[0m \u001b[0mpd\u001b[0m\u001b[1;33m\u001b[0m\u001b[1;33m\u001b[0m\u001b[0m\n\u001b[0m\u001b[0;32m      2\u001b[0m \u001b[1;32mimport\u001b[0m \u001b[0mnumpy\u001b[0m \u001b[1;32mas\u001b[0m \u001b[0mnp\u001b[0m\u001b[1;33m\u001b[0m\u001b[1;33m\u001b[0m\u001b[0m\n\u001b[0;32m      3\u001b[0m \u001b[1;32mimport\u001b[0m \u001b[0mmatplotlib\u001b[0m\u001b[1;33m.\u001b[0m\u001b[0mpyplot\u001b[0m \u001b[1;32mas\u001b[0m \u001b[0mplt\u001b[0m\u001b[1;33m\u001b[0m\u001b[1;33m\u001b[0m\u001b[0m\n\u001b[0;32m      4\u001b[0m \u001b[1;33m\u001b[0m\u001b[0m\n\u001b[0;32m      5\u001b[0m \u001b[1;33m\u001b[0m\u001b[0m\n",
      "\u001b[1;31mModuleNotFoundError\u001b[0m: No module named 'pandas'"
     ]
    }
   ],
   "source": [
    "import pandas as pd\n",
    "import numpy as np\n",
    "import matplotlib.pyplot as plt\n",
    "\n",
    "\n",
    "from sklearn.decomposition import PCA\n",
    "from sklearn.ensemble import IsolationForest"
   ]
  },
  {
   "cell_type": "code",
   "execution_count": null,
   "metadata": {
    "colab": {
     "base_uri": "https://localhost:8080/",
     "height": 299
    },
    "id": "l5snWN0RxYCL",
    "outputId": "e3cd4fa1-2768-49b0-faff-732042859ede"
   },
   "outputs": [],
   "source": [
    "df = pd.read_csv(\"hackathon_kpis_anonymised.csv\")\n",
    "df.head()"
   ]
  },
  {
   "cell_type": "code",
   "execution_count": null,
   "metadata": {
    "colab": {
     "base_uri": "https://localhost:8080/"
    },
    "id": "fkkvi5xyx-ev",
    "outputId": "f7a581be-3a4f-4f40-9846-d31b99210703"
   },
   "outputs": [],
   "source": [
    "df.info()\n",
    "df.groupby('cell_name')\n"
   ]
  },
  {
   "cell_type": "code",
   "execution_count": null,
   "metadata": {
    "colab": {
     "base_uri": "https://localhost:8080/"
    },
    "id": "blyLaJYECKH9",
    "outputId": "ade102b7-60d4-47ea-ddd0-c9ce8a8e0888"
   },
   "outputs": [],
   "source": [
    "nans_2 = {}\n",
    "for key, val in nans.items():\n",
    "  perc = val['total_nans']/val['num_timesteps']\n",
    "  if perc < 0.15:\n",
    "    nans_2[key] = perc\n",
    "\n",
    "nans_2"
   ]
  },
  {
   "cell_type": "code",
   "execution_count": null,
   "metadata": {
    "id": "KHsiT3u9C1VF"
   },
   "outputs": [],
   "source": [
    "def get_cell_df(cell_name):\n",
    "  return df[df['cell_name'] == cell_name]"
   ]
  },
  {
   "cell_type": "code",
   "execution_count": null,
   "metadata": {
    "id": "jMybl3SJ93C3"
   },
   "outputs": [],
   "source": [
    "def preprocess(df):\n",
    "  df_temp = df.fillna(df.median(), axis='index')\n",
    "  df_temp = df_temp.drop(columns='cell_name')\n",
    "  df_temp = df_temp.sort_values('timestamp')\n",
    "  return df_temp.set_index('timestamp')"
   ]
  },
  {
   "cell_type": "code",
   "execution_count": null,
   "metadata": {
    "id": "3FcAi1r_KU0z"
   },
   "outputs": [],
   "source": [
    "def dont_use_df(df):\n",
    "  # skip this df if a whole column is nan\n",
    "  return df.isna().sum().sum() > 0"
   ]
  },
  {
   "cell_type": "code",
   "execution_count": null,
   "metadata": {
    "id": "PYbjwiZFPTFo"
   },
   "outputs": [],
   "source": [
    "def add_aggregated_time_information(data, window_size=5):\n",
    "  time = np.zeros(shape=data.shape)\n",
    "  for i in range(window_size, time.shape[0]):\n",
    "    time[i] = np.mean(data[i-window_size:i], axis=0)\n",
    "\n",
    "  return np.concatenate((data, time), axis=1)"
   ]
  },
  {
   "cell_type": "markdown",
   "metadata": {
    "id": "zyDE-oYgy4Mf"
   },
   "source": [
    "## Isolation forest"
   ]
  },
  {
   "cell_type": "code",
   "execution_count": null,
   "metadata": {
    "id": "59m-mQBcJxeY"
   },
   "outputs": [],
   "source": [
    "skipped = []\n",
    "scores_per_cell = {}\n",
    "for cell in df['cell_name'].unique():\n",
    "  df_temp = get_cell_df(cell)\n",
    "  df_temp = preprocess(df_temp)\n",
    "  if dont_use_df(df_temp):\n",
    "    skipped.append(cell)\n",
    "    continue\n",
    "  pca = PCA(n_components=8)\n",
    "  data = pca.fit_transform(df_temp)\n",
    "  data = add_aggregated_time_information(data)\n",
    "  model =  IsolationForest(contamination = 0.1, random_state=42)\n",
    "  model.fit(data)\n",
    "  scores_per_cell[cell] = {'score':model.score_samples(data), 'timestep':df_temp.index} # Low = abnormal"
   ]
  },
  {
   "cell_type": "code",
   "execution_count": null,
   "metadata": {
    "colab": {
     "base_uri": "https://localhost:8080/",
     "height": 265
    },
    "id": "jPRSa7m4SzG7",
    "outputId": "230c767d-7284-4345-d5dd-96ca621b9ab8"
   },
   "outputs": [],
   "source": [
    "cell_name_to_plot = df['cell_name'].unique()[5]\n",
    "cell_name_to_plot2 = df['cell_name'].unique()[6]\n",
    "plt.scatter(scores_per_cell[cell_name_to_plot]['timestep'], scores_per_cell[cell_name_to_plot]['score'])\n",
    "plt.scatter(scores_per_cell[cell_name_to_plot2]['timestep'], scores_per_cell[cell_name_to_plot2]['score'])\n",
    "plt.show()"
   ]
  },
  {
   "cell_type": "code",
   "execution_count": null,
   "metadata": {
    "id": "nw2TKEGJTKLB"
   },
   "outputs": [],
   "source": []
  }
 ],
 "metadata": {
  "accelerator": "GPU",
  "colab": {
   "collapsed_sections": [],
   "name": "IsolationForest.ipynb",
   "provenance": [],
   "toc_visible": true
  },
  "kernelspec": {
   "display_name": "Python 3",
   "language": "python",
   "name": "python3"
  },
  "language_info": {
   "codemirror_mode": {
    "name": "ipython",
    "version": 3
   },
   "file_extension": ".py",
   "mimetype": "text/x-python",
   "name": "python",
   "nbconvert_exporter": "python",
   "pygments_lexer": "ipython3",
   "version": "3.8.8"
  }
 },
 "nbformat": 4,
 "nbformat_minor": 1
}
