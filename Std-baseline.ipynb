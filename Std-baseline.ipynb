{
 "cells": [
  {
   "cell_type": "code",
   "execution_count": null,
   "id": "prospective-concern",
   "metadata": {},
   "outputs": [],
   "source": [
    "%load_ext autoreload\n",
    "%autoreload 2"
   ]
  },
  {
   "cell_type": "markdown",
   "id": "adjustable-oxford",
   "metadata": {},
   "source": [
    "# The simplest baseline\n",
    "\n",
    "More than two standard deviations away from the mean value => anomaly"
   ]
  },
  {
   "cell_type": "code",
   "execution_count": null,
   "id": "fifteen-auditor",
   "metadata": {},
   "outputs": [],
   "source": [
    "import pandas as pd\n",
    "import numpy as np\n",
    "import plotly.express as px\n",
    "import plotly.graph_objects as go\n",
    "from plotly.subplots import make_subplots\n",
    "\n",
    "from preprocessing import load_data"
   ]
  },
  {
   "cell_type": "code",
   "execution_count": null,
   "id": "renewable-elements",
   "metadata": {},
   "outputs": [],
   "source": [
    "train, val, test = load_data()"
   ]
  },
  {
   "cell_type": "code",
   "execution_count": null,
   "id": "chemical-lebanon",
   "metadata": {},
   "outputs": [],
   "source": [
    "tiny = train[:10]"
   ]
  },
  {
   "cell_type": "code",
   "execution_count": null,
   "id": "liked-keeping",
   "metadata": {},
   "outputs": [],
   "source": [
    "numeric_cols = list(train.columns)\n",
    "numeric_cols.remove('cell_name')\n",
    "numeric_cols.remove('timestamp')\n",
    "numeric_cols"
   ]
  },
  {
   "cell_type": "code",
   "execution_count": null,
   "id": "unavailable-format",
   "metadata": {},
   "outputs": [],
   "source": [
    "means = train[numeric_cols].mean()\n",
    "stds = train[numeric_cols].std()\n",
    "\n",
    "tolerance = 3\n",
    "\n",
    "threshold_upper = means + tolerance*stds\n",
    "threshold_lower = means - tolerance*stds\n",
    "\n",
    "anomalies = {}\n",
    "\n",
    "for col_name in numeric_cols:\n",
    "    anomalies[col_name] = (train[col_name] >= threshold_upper[col_name]) | (train[col_name] <= threshold_lower[col_name])\n",
    "\n",
    "anomalies = pd.DataFrame(anomalies)\n",
    "\n",
    "anomalies.describe()"
   ]
  },
  {
   "cell_type": "code",
   "execution_count": null,
   "id": "immediate-category",
   "metadata": {},
   "outputs": [],
   "source": [
    "anomalies.sum()"
   ]
  },
  {
   "cell_type": "code",
   "execution_count": null,
   "id": "motivated-draft",
   "metadata": {},
   "outputs": [],
   "source": [
    "from std_detector import StdDetector\n",
    "\n",
    "model = StdDetector(numeric_cols, 3)\n",
    "model.train(train)\n",
    "anomalies = model.detect(train)"
   ]
  },
  {
   "cell_type": "code",
   "execution_count": null,
   "id": "center-coupon",
   "metadata": {},
   "outputs": [],
   "source": [
    "train.iloc[np.where(anomalies == True)[0]]"
   ]
  },
  {
   "cell_type": "code",
   "execution_count": null,
   "id": "right-eight",
   "metadata": {
    "scrolled": true
   },
   "outputs": [],
   "source": [
    "def plot_anomalies(df: pd.DataFrame, anomaly_idx: pd.DataFrame, plottable_cols, title, show=True):\n",
    "    \"\"\"\n",
    "    df: The data frame\n",
    "    anomaly_idx: a boolean data frame indicating where anomalies are located\n",
    "    \"\"\"\n",
    "    fig = make_subplots(\n",
    "        rows=len(plottable_cols),\n",
    "        cols=1,\n",
    "        subplot_titles=plottable_cols,\n",
    "    )\n",
    "    for i, col in enumerate(plottable_cols):\n",
    "        fig.add_trace(go.Scatter(\n",
    "            x=df['timestamp'],\n",
    "            y=df[col],\n",
    "            mode='lines',\n",
    "            showlegend=False,\n",
    "            line= {'color' : '#0099C6'}\n",
    "        ), row=i+1, col=1)\n",
    "\n",
    "        anomalies = df.loc[anomaly_idx[col]][['timestamp', col]]\n",
    "        fig.add_trace(go.Scatter(\n",
    "            x=anomalies['timestamp'],\n",
    "            y=anomalies[col], \n",
    "            mode='markers',\n",
    "            showlegend=False,\n",
    "            line= {'color' : 'red'}\n",
    "        ), row=i+1, col=1)\n",
    "\n",
    "    yaxis = {\n",
    "        'yaxis'+str(i) if i > 0 else 'yaxis':{'range':(0,1)}\n",
    "        for i in range(len(plottable_cols)+1)\n",
    "    }\n",
    "    fig.update_layout(\n",
    "        title=title,\n",
    "        height=200 * len(plottable_cols),\n",
    "        xaxis={'range':(df['timestamp'].min(),df['timestamp'].max())},\n",
    "        **yaxis\n",
    "    )\n",
    "    if show: fig.show()\n",
    "    return fig\n",
    "\n",
    "def plot_anomalies_by_cell(df: pd.DataFrame, anomaly_idx: pd.DataFrame, plottable_cols):\n",
    "    \"\"\"\n",
    "    df: The full data frame\n",
    "    anomaly_idx: a boolean data frame indicating where anomalies are located\n",
    "    \"\"\"\n",
    "    groups = df.groupby('cell_name').groups\n",
    "    for cell_name, cell_idx in groups.items():\n",
    "        cell_df = df.loc[cell_idx]\n",
    "        cell_anomalies = anomaly_idx.loc[cell_idx]\n",
    "        plot_anomalies(cell_df, cell_anomalies, plottable_cols, cell_name)\n",
    "\n",
    "#plot_anomalies_by_cell(train, anomalies, numeric_cols)"
   ]
  },
  {
   "cell_type": "code",
   "execution_count": null,
   "id": "robust-graduation",
   "metadata": {
    "scrolled": false
   },
   "outputs": [],
   "source": [
    "from plot import plot_anomalies\n",
    "\n",
    "plot_anomalies_by_cell(train, anomalies, numeric_cols)"
   ]
  }
 ],
 "metadata": {
  "kernelspec": {
   "display_name": "Python 3",
   "language": "python",
   "name": "python3"
  },
  "language_info": {
   "codemirror_mode": {
    "name": "ipython",
    "version": 3
   },
   "file_extension": ".py",
   "mimetype": "text/x-python",
   "name": "python",
   "nbconvert_exporter": "python",
   "pygments_lexer": "ipython3",
   "version": "3.8.8"
  }
 },
 "nbformat": 4,
 "nbformat_minor": 5
}
